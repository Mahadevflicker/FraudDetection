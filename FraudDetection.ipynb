{
  "nbformat": 4,
  "nbformat_minor": 0,
  "metadata": {
    "colab": {
      "name": "Colab's New Code Editor",
      "provenance": [],
      "collapsed_sections": []
    },
    "kernelspec": {
      "display_name": "Python 3",
      "name": "python3"
    }
  },
  "cells": [
    {
      "cell_type": "markdown",
      "metadata": {
        "colab_type": "text",
        "id": "aRDUGd13kUFu"
      },
      "source": [
        "# Colab's New Code Editor\n",
        "\n",
        "Colab is moving to a new code editor which includes:\n",
        "* Richer completions\n",
        "* Additional keybinding options\n",
        "* Improved accessibility"
      ]
    },
    {
      "cell_type": "markdown",
      "metadata": {
        "colab_type": "text",
        "id": "LhDiAMaaAnQF"
      },
      "source": [
        "## Enabling and disabling the new editor\n",
        "\n",
        "The new editor can be controlled with the experiment button in the top-right.\n",
        "\n",
        "![Try new features](data:image/png;base64,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)\n",
        "### Issues\n",
        "You can disable the new editor if you run into issues, but please do let us know why so that we can fix any complaints.\n",
        "\n",
        "Bugs can be filed at https://github.com/googlecolab/colabtools/issues/new, or use the 'Send feedback...' option in the Help menu."
      ]
    },
    {
      "cell_type": "code",
      "metadata": {
        "id": "nH-d0y2swvXL",
        "colab_type": "code",
        "colab": {}
      },
      "source": [
        "import numpy as np\n",
        "import sklearn as sk\n",
        "import pandas as pd\n",
        "import matplotlib.pyplot as plt\n",
        "from sklearn.preprocessing import scale\n",
        "import random\n",
        "\n",
        "from sklearn import linear_model\n",
        "from sklearn.model_selection import train_test_split"
      ],
      "execution_count": 0,
      "outputs": []
    },
    {
      "cell_type": "code",
      "metadata": {
        "id": "b6ZERkDj1fYM",
        "colab_type": "code",
        "colab": {
          "base_uri": "https://localhost:8080/",
          "height": 35
        },
        "outputId": "9d95b4b0-9cee-4ebf-d1dc-42122e944d45"
      },
      "source": [
        "! mkdir ~/.kaggle"
      ],
      "execution_count": 7,
      "outputs": [
        {
          "output_type": "stream",
          "text": [
            "mkdir: cannot create directory ‘/root/.kaggle’: File exists\n"
          ],
          "name": "stdout"
        }
      ]
    },
    {
      "cell_type": "code",
      "metadata": {
        "id": "wE3swjlx1maR",
        "colab_type": "code",
        "colab": {}
      },
      "source": [
        "import json\n",
        "token ={\"username\":\"mrajamani\",\"key\":\"e4e60b18ece3386d5cfd0f693d510857\"}\n",
        "with open('/root/.kaggle/kaggle.json', 'w') as file:\n",
        "    json.dump(token, file)"
      ],
      "execution_count": 0,
      "outputs": []
    },
    {
      "cell_type": "code",
      "metadata": {
        "id": "ECVQoiCz4Q6C",
        "colab_type": "code",
        "colab": {
          "base_uri": "https://localhost:8080/",
          "height": 35
        },
        "outputId": "dcb6df0d-42b5-41d8-a4f1-509f6fc98ec4"
      },
      "source": [
        "!cp /root/.kaggle/kaggle.json ~/.kaggle/kaggle.json"
      ],
      "execution_count": 12,
      "outputs": [
        {
          "output_type": "stream",
          "text": [
            "cp: '/root/.kaggle/kaggle.json' and '/root/.kaggle/kaggle.json' are the same file\n"
          ],
          "name": "stdout"
        }
      ]
    },
    {
      "cell_type": "code",
      "metadata": {
        "id": "m-TISBYY4aEv",
        "colab_type": "code",
        "colab": {
          "base_uri": "https://localhost:8080/",
          "height": 156
        },
        "outputId": "59e4cfc7-286e-4047-bf0b-84805e75e808"
      },
      "source": [
        "!kaggle config set -n path -v{/root}"
      ],
      "execution_count": 7,
      "outputs": [
        {
          "output_type": "stream",
          "text": [
            "Traceback (most recent call last):\n",
            "  File \"/usr/local/bin/kaggle\", line 6, in <module>\n",
            "    from kaggle.cli import main\n",
            "  File \"/usr/local/lib/python2.7/dist-packages/kaggle/__init__.py\", line 23, in <module>\n",
            "    api.authenticate()\n",
            "  File \"/usr/local/lib/python2.7/dist-packages/kaggle/api/kaggle_api_extended.py\", line 146, in authenticate\n",
            "    self.config_file, self.config_dir))\n",
            "IOError: Could not find kaggle.json. Make sure it's located in /root/.kaggle. Or use the environment method.\n"
          ],
          "name": "stdout"
        }
      ]
    },
    {
      "cell_type": "code",
      "metadata": {
        "id": "0pyQF7404gEk",
        "colab_type": "code",
        "colab": {
          "base_uri": "https://localhost:8080/",
          "height": 35
        },
        "outputId": "47967167-ffeb-47b4-9905-7263d27a7e1d"
      },
      "source": [
        "!chmod 600 /root/.kaggle/kaggle.json"
      ],
      "execution_count": 8,
      "outputs": [
        {
          "output_type": "stream",
          "text": [
            "chmod: cannot access '/root/.kaggle/kaggle.json': No such file or directory\n"
          ],
          "name": "stdout"
        }
      ]
    },
    {
      "cell_type": "code",
      "metadata": {
        "id": "Zdwf6G0d40ry",
        "colab_type": "code",
        "colab": {
          "base_uri": "https://localhost:8080/",
          "height": 416
        },
        "outputId": "dac40e09-5f02-4755-ea00-c9eb6ad47daa"
      },
      "source": [
        "!kaggle datasets list -s credit"
      ],
      "execution_count": 28,
      "outputs": [
        {
          "output_type": "stream",
          "text": [
            "Warning: Looks like you're using an outdated API Version, please consider updating (server 1.5.6 / client 1.5.4)\n",
            "ref                                                    title                                                size  lastUpdated          downloadCount  \n",
            "-----------------------------------------------------  -------------------------------------------------  ------  -------------------  -------------  \n",
            "mlg-ulb/creditcardfraud                                Credit Card Fraud Detection                          66MB  2018-03-23 01:17:27         158799  \n",
            "uciml/german-credit                                    German Credit Risk                                   11KB  2016-12-14 21:25:02          10705  \n",
            "uciml/default-of-credit-card-clients-dataset           Default of Credit Card Clients Dataset             1001KB  2016-11-03 03:39:18          22535  \n",
            "arjunbhasin2013/ccdata                                 Credit Card Dataset for Clustering                  340KB  2018-03-02 08:35:03           5997  \n",
            "dansbecker/aer-credit-card-data                        Credit Card Data from book \"Econometric Analysis\"    24KB  2017-10-13 17:17:33           1803  \n",
            "ananta/credit-card-data                                Credit Card Data                                      1MB  2018-08-24 02:22:36            893  \n",
            "brycecf/give-me-some-credit-dataset                    Give Me Some Credit :: 2011 Competition Data          5MB  2017-08-09 20:08:21           3052  \n",
            "isaikumar/creditcardfraud                              Credit Card Fraud Detection Dataset                  66MB  2018-05-05 09:38:01           1390  \n",
            "willkoehrsen/home-credit-default-risk-feature-tools    Home Credit Default Risk Feature Tools                4GB  2018-08-16 19:12:18           1220  \n",
            "jacklizhi/creditcard                                   creditcard                                           66MB  2017-11-03 06:19:34            612  \n",
            "willkoehrsen/home-credit-manual-engineered-features    Home Credit Manual Engineered Features                1GB  2018-07-25 22:14:33           1204  \n",
            "shravan3273/credit-approval                            Credit approval                                      16KB  2018-02-27 08:52:12            487  \n",
            "sonujha090/xyzcorp-lendingdata                         XYZCorp_LendingData                                  90MB  2018-12-15 11:37:02            268  \n",
            "julianocosta/home-credit                               Home Credit                                         682MB  2018-06-14 21:49:28           2980  \n",
            "kabure/german-credit-data-with-risk                    german_credit_data_with_risk                         11KB  2018-01-09 15:09:46           2998  \n",
            "theworldbank/ida-statement-of-credits-and-grants-data  IDA Statement of Credits and Grants Data             10MB  2019-09-26 14:01:29            422  \n",
            "ujjwal9/credit-card-applications                       Credit Card Applications                             12KB  2017-10-23 18:20:53            330  \n",
            "amarvw/customercreditcard                              Credit Card eligibility                               1MB  2018-12-26 03:36:57            123  \n",
            "aniruddhachoudhury/credit-risk-model                   Credit Risk Model                                     6MB  2018-11-18 10:47:37            340  \n",
            "mishra5001/credit-card                                 Credit Card                                         108MB  2019-07-15 06:36:02            147  \n"
          ],
          "name": "stdout"
        }
      ]
    },
    {
      "cell_type": "code",
      "metadata": {
        "id": "HqSm6j9MFQ48",
        "colab_type": "code",
        "colab": {
          "base_uri": "https://localhost:8080/",
          "height": 87
        },
        "outputId": "5d734afe-3f8a-496a-aef3-92c87b6f86fb"
      },
      "source": [
        "!kaggle datasets download -d  mlg-ulb/creditcardfraud -p /root/.kaggle/"
      ],
      "execution_count": 15,
      "outputs": [
        {
          "output_type": "stream",
          "text": [
            "Warning: Your Kaggle API key is readable by other users on this system! To fix this, you can run 'chmod 600 /root/.kaggle/kaggle.json'\n",
            "Downloading creditcardfraud.zip to /root/.kaggle\n",
            " 97% 64.0M/66.0M [00:01<00:00, 30.0MB/s]\n",
            "100% 66.0M/66.0M [00:01<00:00, 42.8MB/s]\n"
          ],
          "name": "stdout"
        }
      ]
    },
    {
      "cell_type": "code",
      "metadata": {
        "id": "j_Cz4Eg1F7le",
        "colab_type": "code",
        "colab": {
          "base_uri": "https://localhost:8080/",
          "height": 52
        },
        "outputId": "9fd72d06-9ab1-42ba-e214-43d8552547b3"
      },
      "source": [
        "!unzip /root/.kaggle/*.zip"
      ],
      "execution_count": 16,
      "outputs": [
        {
          "output_type": "stream",
          "text": [
            "Archive:  /root/.kaggle/creditcardfraud.zip\n",
            "  inflating: creditcard.csv          \n"
          ],
          "name": "stdout"
        }
      ]
    },
    {
      "cell_type": "code",
      "metadata": {
        "id": "3IFH2drhGGXG",
        "colab_type": "code",
        "colab": {
          "base_uri": "https://localhost:8080/",
          "height": 222
        },
        "outputId": "2d97cde6-b007-4e75-b2af-d6399ba00e92"
      },
      "source": [
        "df = pd.read_csv('creditcard.csv', low_memory = False)\n",
        "df = df.sample(frac = 1).reset_index(drop = True)\n",
        "df.head()"
      ],
      "execution_count": 17,
      "outputs": [
        {
          "output_type": "execute_result",
          "data": {
            "text/html": [
              "<div>\n",
              "<style scoped>\n",
              "    .dataframe tbody tr th:only-of-type {\n",
              "        vertical-align: middle;\n",
              "    }\n",
              "\n",
              "    .dataframe tbody tr th {\n",
              "        vertical-align: top;\n",
              "    }\n",
              "\n",
              "    .dataframe thead th {\n",
              "        text-align: right;\n",
              "    }\n",
              "</style>\n",
              "<table border=\"1\" class=\"dataframe\">\n",
              "  <thead>\n",
              "    <tr style=\"text-align: right;\">\n",
              "      <th></th>\n",
              "      <th>Time</th>\n",
              "      <th>V1</th>\n",
              "      <th>V2</th>\n",
              "      <th>V3</th>\n",
              "      <th>V4</th>\n",
              "      <th>V5</th>\n",
              "      <th>V6</th>\n",
              "      <th>V7</th>\n",
              "      <th>V8</th>\n",
              "      <th>V9</th>\n",
              "      <th>V10</th>\n",
              "      <th>V11</th>\n",
              "      <th>V12</th>\n",
              "      <th>V13</th>\n",
              "      <th>V14</th>\n",
              "      <th>V15</th>\n",
              "      <th>V16</th>\n",
              "      <th>V17</th>\n",
              "      <th>V18</th>\n",
              "      <th>V19</th>\n",
              "      <th>V20</th>\n",
              "      <th>V21</th>\n",
              "      <th>V22</th>\n",
              "      <th>V23</th>\n",
              "      <th>V24</th>\n",
              "      <th>V25</th>\n",
              "      <th>V26</th>\n",
              "      <th>V27</th>\n",
              "      <th>V28</th>\n",
              "      <th>Amount</th>\n",
              "      <th>Class</th>\n",
              "    </tr>\n",
              "  </thead>\n",
              "  <tbody>\n",
              "    <tr>\n",
              "      <th>0</th>\n",
              "      <td>132656.0</td>\n",
              "      <td>-0.324151</td>\n",
              "      <td>0.518018</td>\n",
              "      <td>1.721372</td>\n",
              "      <td>-0.417024</td>\n",
              "      <td>-0.020874</td>\n",
              "      <td>-0.002549</td>\n",
              "      <td>0.364396</td>\n",
              "      <td>0.006381</td>\n",
              "      <td>0.491950</td>\n",
              "      <td>-0.265011</td>\n",
              "      <td>0.783195</td>\n",
              "      <td>0.813273</td>\n",
              "      <td>0.122747</td>\n",
              "      <td>-0.333522</td>\n",
              "      <td>-0.311786</td>\n",
              "      <td>-0.157063</td>\n",
              "      <td>-0.674144</td>\n",
              "      <td>0.797512</td>\n",
              "      <td>0.299059</td>\n",
              "      <td>0.154022</td>\n",
              "      <td>0.307635</td>\n",
              "      <td>1.374801</td>\n",
              "      <td>-0.305754</td>\n",
              "      <td>0.063447</td>\n",
              "      <td>-0.293607</td>\n",
              "      <td>-0.154518</td>\n",
              "      <td>0.291182</td>\n",
              "      <td>0.008953</td>\n",
              "      <td>7.62</td>\n",
              "      <td>0</td>\n",
              "    </tr>\n",
              "    <tr>\n",
              "      <th>1</th>\n",
              "      <td>22031.0</td>\n",
              "      <td>-1.328592</td>\n",
              "      <td>-0.668176</td>\n",
              "      <td>3.174040</td>\n",
              "      <td>0.073075</td>\n",
              "      <td>0.010124</td>\n",
              "      <td>0.862754</td>\n",
              "      <td>-0.341060</td>\n",
              "      <td>-0.143875</td>\n",
              "      <td>1.645276</td>\n",
              "      <td>0.008857</td>\n",
              "      <td>-1.326832</td>\n",
              "      <td>-2.285344</td>\n",
              "      <td>2.588594</td>\n",
              "      <td>-0.604906</td>\n",
              "      <td>-3.041777</td>\n",
              "      <td>-1.921770</td>\n",
              "      <td>0.543747</td>\n",
              "      <td>1.478040</td>\n",
              "      <td>-0.917353</td>\n",
              "      <td>-0.207517</td>\n",
              "      <td>-0.771367</td>\n",
              "      <td>-0.687523</td>\n",
              "      <td>-0.370011</td>\n",
              "      <td>-0.508537</td>\n",
              "      <td>0.596779</td>\n",
              "      <td>-0.399151</td>\n",
              "      <td>-0.090179</td>\n",
              "      <td>-0.235158</td>\n",
              "      <td>70.00</td>\n",
              "      <td>0</td>\n",
              "    </tr>\n",
              "    <tr>\n",
              "      <th>2</th>\n",
              "      <td>154350.0</td>\n",
              "      <td>-0.639270</td>\n",
              "      <td>0.512418</td>\n",
              "      <td>0.198686</td>\n",
              "      <td>-1.516497</td>\n",
              "      <td>2.415173</td>\n",
              "      <td>4.072233</td>\n",
              "      <td>-0.218389</td>\n",
              "      <td>1.058348</td>\n",
              "      <td>0.225682</td>\n",
              "      <td>-0.659957</td>\n",
              "      <td>-0.187986</td>\n",
              "      <td>0.061611</td>\n",
              "      <td>-0.185411</td>\n",
              "      <td>0.039206</td>\n",
              "      <td>1.009903</td>\n",
              "      <td>-0.135749</td>\n",
              "      <td>-0.506722</td>\n",
              "      <td>-0.103035</td>\n",
              "      <td>0.253376</td>\n",
              "      <td>-0.020434</td>\n",
              "      <td>-0.089141</td>\n",
              "      <td>-0.391339</td>\n",
              "      <td>-0.023428</td>\n",
              "      <td>0.663127</td>\n",
              "      <td>-0.310679</td>\n",
              "      <td>-0.534921</td>\n",
              "      <td>-0.098551</td>\n",
              "      <td>0.152240</td>\n",
              "      <td>4.99</td>\n",
              "      <td>0</td>\n",
              "    </tr>\n",
              "    <tr>\n",
              "      <th>3</th>\n",
              "      <td>47631.0</td>\n",
              "      <td>-3.672267</td>\n",
              "      <td>-2.146067</td>\n",
              "      <td>-1.937376</td>\n",
              "      <td>-1.037980</td>\n",
              "      <td>4.080319</td>\n",
              "      <td>1.393414</td>\n",
              "      <td>-1.938166</td>\n",
              "      <td>1.697201</td>\n",
              "      <td>-0.027119</td>\n",
              "      <td>-0.383696</td>\n",
              "      <td>-0.803584</td>\n",
              "      <td>0.459892</td>\n",
              "      <td>0.024392</td>\n",
              "      <td>0.847522</td>\n",
              "      <td>-0.259510</td>\n",
              "      <td>0.517921</td>\n",
              "      <td>-0.365989</td>\n",
              "      <td>-0.197986</td>\n",
              "      <td>0.091798</td>\n",
              "      <td>-0.123082</td>\n",
              "      <td>-0.046414</td>\n",
              "      <td>-0.402708</td>\n",
              "      <td>-1.162296</td>\n",
              "      <td>1.210968</td>\n",
              "      <td>-0.521715</td>\n",
              "      <td>0.842598</td>\n",
              "      <td>0.778617</td>\n",
              "      <td>-0.739970</td>\n",
              "      <td>2.00</td>\n",
              "      <td>0</td>\n",
              "    </tr>\n",
              "    <tr>\n",
              "      <th>4</th>\n",
              "      <td>40707.0</td>\n",
              "      <td>1.401412</td>\n",
              "      <td>-0.323197</td>\n",
              "      <td>0.608667</td>\n",
              "      <td>-0.676899</td>\n",
              "      <td>-0.972389</td>\n",
              "      <td>-0.990968</td>\n",
              "      <td>-0.433772</td>\n",
              "      <td>-0.287976</td>\n",
              "      <td>-1.018066</td>\n",
              "      <td>0.555126</td>\n",
              "      <td>0.092358</td>\n",
              "      <td>0.360618</td>\n",
              "      <td>1.865805</td>\n",
              "      <td>-0.499454</td>\n",
              "      <td>0.599689</td>\n",
              "      <td>1.146679</td>\n",
              "      <td>0.130056</td>\n",
              "      <td>-1.790392</td>\n",
              "      <td>0.607231</td>\n",
              "      <td>0.182436</td>\n",
              "      <td>-0.076249</td>\n",
              "      <td>-0.261673</td>\n",
              "      <td>0.111024</td>\n",
              "      <td>0.412947</td>\n",
              "      <td>0.288866</td>\n",
              "      <td>-0.485821</td>\n",
              "      <td>0.021031</td>\n",
              "      <td>0.026849</td>\n",
              "      <td>12.00</td>\n",
              "      <td>0</td>\n",
              "    </tr>\n",
              "  </tbody>\n",
              "</table>\n",
              "</div>"
            ],
            "text/plain": [
              "       Time        V1        V2        V3  ...       V27       V28  Amount  Class\n",
              "0  132656.0 -0.324151  0.518018  1.721372  ...  0.291182  0.008953    7.62      0\n",
              "1   22031.0 -1.328592 -0.668176  3.174040  ... -0.090179 -0.235158   70.00      0\n",
              "2  154350.0 -0.639270  0.512418  0.198686  ... -0.098551  0.152240    4.99      0\n",
              "3   47631.0 -3.672267 -2.146067 -1.937376  ...  0.778617 -0.739970    2.00      0\n",
              "4   40707.0  1.401412 -0.323197  0.608667  ...  0.021031  0.026849   12.00      0\n",
              "\n",
              "[5 rows x 31 columns]"
            ]
          },
          "metadata": {
            "tags": []
          },
          "execution_count": 17
        }
      ]
    },
    {
      "cell_type": "markdown",
      "metadata": {
        "id": "sdIrX2wAw35B",
        "colab_type": "text"
      },
      "source": [
        "**Fraud Detection**\n",
        "\n",
        "Our Task:\n",
        "\n",
        "- Explore the dataset/Visualize\n",
        "- Decide which feature are important\n",
        "- Perform machine learning\n",
        "- Test the model on the testing set\n",
        "\n",
        "\n",
        "\n"
      ]
    },
    {
      "cell_type": "code",
      "metadata": {
        "id": "f98qX0WjGg2q",
        "colab_type": "code",
        "colab": {
          "base_uri": "https://localhost:8080/",
          "height": 52
        },
        "outputId": "1f37ee33-f69b-494e-c517-7360f7bc72c1"
      },
      "source": [
        "fraud = df.loc[df['Class'] == 1]\n",
        "non_frauds = df.loc[df['Class'] == 0]\n",
        "print(len(fraud))\n",
        "print(len(non_frauds))"
      ],
      "execution_count": 18,
      "outputs": [
        {
          "output_type": "stream",
          "text": [
            "492\n",
            "284315\n"
          ],
          "name": "stdout"
        }
      ]
    },
    {
      "cell_type": "code",
      "metadata": {
        "id": "BSXlNdmBH9ba",
        "colab_type": "code",
        "colab": {
          "base_uri": "https://localhost:8080/",
          "height": 283
        },
        "outputId": "7030d6e4-474e-4f98-de74-3f4edb0c02db"
      },
      "source": [
        "ax = fraud.plot.scatter(x = 'Amount', y ='Class', color = 'Orange', label = 'Fraud')\n",
        "non_frauds.plot.scatter(x = 'Amount', y = 'Class', color = 'Blue', label = 'Normal', ax = ax)\n",
        "plt.show()"
      ],
      "execution_count": 19,
      "outputs": [
        {
          "output_type": "display_data",
          "data": {
            "image/png": "[encoded data removed]",
            "text/plain": [
              "<Figure size 432x288 with 1 Axes>"
            ]
          },
          "metadata": {
            "tags": []
          }
        }
      ]
    },
    {
      "cell_type": "code",
      "metadata": {
        "id": "Ncb5x_VlRkNv",
        "colab_type": "code",
        "colab": {}
      },
      "source": [
        "x = df.iloc[:,:-1]\n",
        "y = df['Class']\n",
        "\n",
        "X_train, X_test, y_train, y_test = train_test_split(x,y, test_size = .35)"
      ],
      "execution_count": 0,
      "outputs": []
    },
    {
      "cell_type": "code",
      "metadata": {
        "id": "qbZR1TjMRlpS",
        "colab_type": "code",
        "colab": {
          "base_uri": "https://localhost:8080/",
          "height": 89
        },
        "outputId": "25510c91-6bea-4cca-812a-60a26ce4f7ed"
      },
      "source": [
        "logistic = linear_model.LogisticRegression(C = 1e5)\n",
        "logistic.fit(X_train, y_train)\n",
        "print('Score:', logistic.score(X_test, y_test))\n"
      ],
      "execution_count": 24,
      "outputs": [
        {
          "output_type": "stream",
          "text": [
            "/usr/local/lib/python3.6/dist-packages/sklearn/linear_model/logistic.py:432: FutureWarning: Default solver will be changed to 'lbfgs' in 0.22. Specify a solver to silence this warning.\n",
            "  FutureWarning)\n"
          ],
          "name": "stderr"
        },
        {
          "output_type": "stream",
          "text": [
            "Score: 0.9986958658948868\n"
          ],
          "name": "stdout"
        }
      ]
    },
    {
      "cell_type": "code",
      "metadata": {
        "id": "UGLPaGgTUAdl",
        "colab_type": "code",
        "colab": {
          "base_uri": "https://localhost:8080/",
          "height": 35
        },
        "outputId": "334dbb5f-90fc-46e9-aef0-ecd9137a33c8"
      },
      "source": [
        "y_predicted = np.array(logistic.predict(X_test))\n",
        "print(y_predicted)"
      ],
      "execution_count": 25,
      "outputs": [
        {
          "output_type": "stream",
          "text": [
            "[0 0 0 ... 0 0 0]\n"
          ],
          "name": "stdout"
        }
      ]
    },
    {
      "cell_type": "markdown",
      "metadata": {
        "colab_type": "text",
        "id": "qTXOGdaz4wy0"
      },
      "source": [
        "# Richer syntax highlighting\n",
        "\n",
        "Improved support for nested languages:\n",
        "\n",
        "```notebook-python\n",
        "df = pd.io.gbq.read_gbq('''\n",
        "  SELECT \n",
        "    REGEXP_EXTRACT(name, '[a-zA-Z]+'),\n",
        "    SUM(number) as count\n",
        "  FROM `bigquery-public-data.usa_names.usa_1910_2013`\n",
        "  WHERE state = 'TX'\n",
        "  GROUP BY name\n",
        "  ORDER BY count DESC\n",
        "  LIMIT 100\n",
        "''')\n",
        "```"
      ]
    }
  ]
}
